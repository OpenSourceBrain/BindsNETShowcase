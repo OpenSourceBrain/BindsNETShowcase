{
 "cells": [
  {
   "cell_type": "markdown",
   "metadata": {},
   "source": [
    "## Building a network in NeuroMLlite for BindsNET"
   ]
  },
  {
   "cell_type": "markdown",
   "metadata": {},
   "source": [
    "### Create a network using NeuroMLlite\n",
    "\n",
    "See https://docs.neuroml.org/Userdocs/Software/NeuroMLlite.html"
   ]
  },
  {
   "cell_type": "code",
   "execution_count": 1,
   "metadata": {},
   "outputs": [
    {
     "name": "stdout",
     "output_type": "stream",
     "text": [
      "Network (TestNet), version = NeuroMLlite v0.3.5, parameters = {'n_neurons': 10, 'input_freq': 50}\n",
      "  cells:\n",
      "    Cell (Input), bindsnet_node = Input, parameters = {}\n",
      "    Cell (LIF), bindsnet_node = LIFNodes, parameters = {}\n",
      "  regions:\n",
      "    RectangularRegion (region1), x = 0.0, y = 0.0, z = 0.0, width = 1000.0, height = 100.0, depth = 1000.0\n",
      "  populations:\n",
      "    Population (X), size = n_neurons, component = Input, properties = {'color': '0.8 0 0'}, random_layout = RandomLayout (None), region = region1\n",
      "    Population (Y), size = n_neurons, component = LIF, properties = {'color': '0 0.8 0'}, random_layout = RandomLayout (None), region = region1\n",
      "neuromllite >>> Written NeuroMLlite Network to: TestNet.json\n",
      "neuromllite >>> Written NeuroMLlite Simulation to: SimTestNet.json\n"
     ]
    },
    {
     "data": {
      "text/plain": [
       "'SimTestNet.json'"
      ]
     },
     "execution_count": 1,
     "metadata": {},
     "output_type": "execute_result"
    }
   ],
   "source": [
    "import neuromllite as nmllite\n",
    "\n",
    "\n",
    "# Set up the network \n",
    "net = nmllite.Network(id='TestNet')\n",
    "\n",
    "net.parameters = {'n_neurons': 10,\n",
    "                  'input_freq':       50} \n",
    "\n",
    "# Add a NeuroMLlite cell, using the above file\n",
    "input_cell = nmllite.Cell(id='Input', \n",
    "                            bindsnet_node='Input', \n",
    "                            parameters={})\n",
    "\n",
    "net.cells.append(input_cell)\n",
    "\n",
    "lif_cell = nmllite.Cell(id='LIF', \n",
    "                            bindsnet_node='LIFNodes', \n",
    "                            parameters={})\n",
    "\n",
    "net.cells.append(lif_cell)\n",
    "\n",
    "\n",
    "# Create a region in 3D space (not really necessary for 1 cell, but useful if more added later)\n",
    "r1 = nmllite.RectangularRegion(id='region1', x=0,y=0,z=0,width=1000,height=100,depth=1000)\n",
    "net.regions.append(r1)\n",
    "\n",
    "\n",
    "# Create a population of n_neurons cells\n",
    "pX = nmllite.Population(id='X', \n",
    "                        size='n_neurons', \n",
    "                        component=input_cell.id, \n",
    "                        properties={'color':'0.8 0 0'},\n",
    "                        random_layout = nmllite.RandomLayout(region=r1.id))\n",
    "\n",
    "net.populations.append(pX)\n",
    "\n",
    "pY = nmllite.Population(id='Y', \n",
    "                        size='n_neurons', \n",
    "                        component=lif_cell.id, \n",
    "                        properties={'color':'0 0.8 0'},\n",
    "                        random_layout = nmllite.RandomLayout(region=r1.id))\n",
    "\n",
    "net.populations.append(pY)\n",
    "\n",
    "\n",
    "\n",
    "# Print a summary of the network info\n",
    "print(net)\n",
    "\n",
    "\n",
    "# Save the NeuroMLlite network to a JSON file\n",
    "new_file = net.to_json_file('%s.json'%net.id)\n",
    "\n",
    "\n",
    "# Specify a NeuroMLlite simulation and save to file\n",
    "sim = nmllite.Simulation(id='Sim%s'%net.id,\n",
    "                 network=new_file,\n",
    "                 duration='1000',\n",
    "                 dt='0.025',\n",
    "                 recordTraces={'all':'*'})\n",
    "                 \n",
    "sim.to_json_file()"
   ]
  },
  {
   "cell_type": "code",
   "execution_count": 2,
   "metadata": {},
   "outputs": [
    {
     "name": "stdout",
     "output_type": "stream",
     "text": [
      "{\r\n",
      "    \"TestNet\": {\r\n",
      "        \"version\": \"NeuroMLlite v0.3.5\",\r\n",
      "        \"parameters\": {\r\n",
      "            \"n_neurons\": 10,\r\n",
      "            \"input_freq\": 50\r\n",
      "        },\r\n",
      "        \"cells\": {\r\n",
      "            \"Input\": {\r\n",
      "                \"bindsnet_node\": \"Input\",\r\n",
      "                \"parameters\": {}\r\n",
      "            },\r\n",
      "            \"LIF\": {\r\n",
      "                \"bindsnet_node\": \"LIFNodes\",\r\n",
      "                \"parameters\": {}\r\n",
      "            }\r\n",
      "        },\r\n",
      "        \"regions\": {\r\n",
      "            \"region1\": {\r\n",
      "                \"x\": 0.0,\r\n",
      "                \"y\": 0.0,\r\n",
      "                \"z\": 0.0,\r\n",
      "                \"width\": 1000.0,\r\n",
      "                \"height\": 100.0,\r\n",
      "                \"depth\": 1000.0\r\n",
      "            }\r\n",
      "        },\r\n",
      "        \"populations\": {\r\n",
      "            \"X\": {\r\n",
      "                \"size\": \"n_neurons\",\r\n",
      "                \"component\": \"Input\",\r\n",
      "                \"properties\": {\r\n",
      "                    \"color\": \"0.8 0 0\"\r\n",
      "                },\r\n",
      "                \"random_layout\": {\r\n",
      "                    \"region\": \"region1\"\r\n",
      "                }\r\n",
      "            },\r\n",
      "            \"Y\": {\r\n",
      "                \"size\": \"n_neurons\",\r\n",
      "                \"component\": \"LIF\",\r\n",
      "                \"properties\": {\r\n",
      "                    \"color\": \"0 0.8 0\"\r\n",
      "                },\r\n",
      "                \"random_layout\": {\r\n",
      "                    \"region\": \"region1\"\r\n",
      "                }\r\n",
      "            }\r\n",
      "        }\r\n",
      "    }\r\n",
      "}"
     ]
    }
   ],
   "source": [
    "!cat TestNet.json"
   ]
  },
  {
   "cell_type": "markdown",
   "metadata": {},
   "source": [
    "### Generate the network and run it in BindsNET"
   ]
  },
  {
   "cell_type": "code",
   "execution_count": 3,
   "metadata": {},
   "outputs": [
    {
     "name": "stdout",
     "output_type": "stream",
     "text": [
      "neuromllite >>> Loaded network specification from TestNet.json\n",
      "neuromllite >>> Generating network TestNet and running in simulator: BindsNET...\n",
      "\n",
      "   ********************************************************\n",
      "   *** Warning: Support for BindsNET is very preliminary!! ***\n",
      "   ********************************************************\n",
      "\n",
      "neuromllite >>> Initiating BindsNET...\n",
      "neuromllite >>> Starting net generation for TestNet...\n",
      "neuromllite >>> Document: TestNet\n",
      "neuromllite >>> Network: TestNet\n",
      "neuromllite >>> Population: X, component: Input, size: 10 cells\n",
      "neuromllite >>> Population: Y, component: LIF, size: 10 cells\n",
      "neuromllite >>> Building network with: {'X': {0: 0, 1: 1, 2: 2, 3: 3, 4: 4, 5: 5, 6: 6, 7: 7, 8: 8, 9: 9}, 'Y': {0: 10, 1: 11, 2: 12, 3: 13, 4: 14, 5: 15, 6: 16, 7: 17, 8: 18, 9: 19}}\n",
      "neuromllite >>> Weights: {}\n",
      "neuromllite >>> Delays: {}\n",
      "Creating a population X with 10 instances of Cell (Input), bindsnet_node = Input, parameters = {} using: <X = bindsnet.network.nodes.Input(10)>\n",
      "Creating a population Y with 10 instances of Cell (LIF), bindsnet_node = LIFNodes, parameters = {} using: <Y = bindsnet.network.nodes.LIFNodes(10)>\n",
      "neuromllite >>> Returning 0 traces:\n",
      "neuromllite >>> Returning 0 events:\n"
     ]
    }
   ],
   "source": [
    "from neuromllite.NetworkGenerator import generate_and_run\n",
    "traces, events = generate_and_run(sim, \n",
    "                                  simulator='BindsNET', \n",
    "                                  return_results =True)"
   ]
  },
  {
   "cell_type": "markdown",
   "metadata": {},
   "source": [
    "### Plot the results"
   ]
  },
  {
   "cell_type": "code",
   "execution_count": 4,
   "metadata": {},
   "outputs": [
    {
     "name": "stderr",
     "output_type": "stream",
     "text": [
      "WARNING:matplotlib.legend:No handles with labels found to put in legend.\n"
     ]
    },
    {
     "data": {
      "text/plain": [
       "<matplotlib.legend.Legend at 0x7fa2ceec6160>"
      ]
     },
     "execution_count": 4,
     "metadata": {},
     "output_type": "execute_result"
    },
    {
     "data": {
      "image/png": "[encoded data removed]",
      "text/plain": [
       "<Figure size 1000x600 with 1 Axes>"
      ]
     },
     "metadata": {
      "needs_background": "light"
     },
     "output_type": "display_data"
    }
   ],
   "source": [
    "import matplotlib.pyplot as plt\n",
    "\n",
    "fig=plt.figure(figsize=(10,6), dpi= 100)\n",
    "for trace in traces:\n",
    "    if trace is not 't':\n",
    "        plt.plot(traces['t'],traces[trace],label=trace)\n",
    "plt.legend()"
   ]
  },
  {
   "cell_type": "code",
   "execution_count": null,
   "metadata": {},
   "outputs": [],
   "source": []
  },
  {
   "cell_type": "code",
   "execution_count": null,
   "metadata": {},
   "outputs": [],
   "source": []
  }
 ],
 "metadata": {
  "kernelspec": {
   "display_name": "Python 3 (ipykernel)",
   "language": "python",
   "name": "python3"
  },
  "language_info": {
   "codemirror_mode": {
    "name": "ipython",
    "version": 3
   },
   "file_extension": ".py",
   "mimetype": "text/x-python",
   "name": "python",
   "nbconvert_exporter": "python",
   "pygments_lexer": "ipython3",
   "version": "3.8.11"
  }
 },
 "nbformat": 4,
 "nbformat_minor": 4
}
