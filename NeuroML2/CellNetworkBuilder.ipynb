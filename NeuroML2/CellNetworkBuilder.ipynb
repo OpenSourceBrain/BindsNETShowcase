{
 "cells": [
  {
   "cell_type": "markdown",
   "metadata": {},
   "source": [
    "## Building a network in NeuroMLlite for BindsNET"
   ]
  },
  {
   "cell_type": "markdown",
   "metadata": {},
   "source": [
    "### Create a network using NeuroMLlite\n",
    "\n",
    "See https://docs.neuroml.org/Userdocs/Software/NeuroMLlite.html"
   ]
  },
  {
   "cell_type": "code",
   "execution_count": 1,
   "metadata": {},
   "outputs": [
    {
     "name": "stdout",
     "output_type": "stream",
     "text": [
      "Network (TestNet), version = NeuroMLlite v0.3.5, parameters = {'n_neurons': 10, 'input_freq': 50}\n",
      "  cells:\n",
      "    Cell (Input), bindsnet_node = Input, parameters = {}\n",
      "    Cell (LIF), bindsnet_node = LIFNodes, parameters = {}\n",
      "  regions:\n",
      "    RectangularRegion (region1), x = 0.0, y = 0.0, z = 0.0, width = 1000.0, height = 100.0, depth = 1000.0\n",
      "  populations:\n",
      "    Population (InputPop), size = n_neurons, component = Input, properties = {'color': '0.8 0 0'}, random_layout = RandomLayout (None), region = region1\n",
      "    Population (LIFPop), size = n_neurons, component = LIF, properties = {'color': '0 0.8 0'}, random_layout = RandomLayout (None), region = region1\n",
      "neuromllite >>> Written NeuroMLlite Network to: TestNet.json\n",
      "neuromllite >>> Written NeuroMLlite Simulation to: SimTestNet.json\n"
     ]
    },
    {
     "data": {
      "text/plain": [
       "'SimTestNet.json'"
      ]
     },
     "execution_count": 1,
     "metadata": {},
     "output_type": "execute_result"
    }
   ],
   "source": [
    "import neuromllite as nmllite\n",
    "\n",
    "\n",
    "# Set up the network \n",
    "net = nmllite.Network(id='TestNet')\n",
    "\n",
    "net.parameters = {'n_neurons':     10,\n",
    "                  'input_freq':    50} \n",
    "\n",
    "# Add a NeuroMLlite cell, using the above file\n",
    "input_cell = nmllite.Cell(id='Input', \n",
    "                            bindsnet_node='Input', \n",
    "                            parameters={})\n",
    "\n",
    "net.cells.append(input_cell)\n",
    "\n",
    "lif_cell = nmllite.Cell(id='LIF', \n",
    "                            bindsnet_node='LIFNodes', \n",
    "                            parameters={})\n",
    "\n",
    "net.cells.append(lif_cell)\n",
    "\n",
    "\n",
    "# Create a region in 3D space (not really necessary for 1 cell, but useful if more added later)\n",
    "r1 = nmllite.RectangularRegion(id='region1', x=0,y=0,z=0,width=1000,height=100,depth=1000)\n",
    "net.regions.append(r1)\n",
    "\n",
    "\n",
    "# Create a population of n_neurons cells\n",
    "pX = nmllite.Population(id='InputPop', \n",
    "                        size='n_neurons', \n",
    "                        component=input_cell.id, \n",
    "                        properties={'color':'0.8 0 0'},\n",
    "                        random_layout = nmllite.RandomLayout(region=r1.id))\n",
    "\n",
    "net.populations.append(pX)\n",
    "\n",
    "pY = nmllite.Population(id='LIFPop', \n",
    "                        size='n_neurons', \n",
    "                        component=lif_cell.id, \n",
    "                        properties={'color':'0 0.8 0'},\n",
    "                        random_layout = nmllite.RandomLayout(region=r1.id))\n",
    "\n",
    "net.populations.append(pY)\n",
    "\n",
    "\n",
    "\n",
    "# Print a summary of the network info\n",
    "print(net)\n",
    "\n",
    "\n",
    "# Save the NeuroMLlite network to a JSON file\n",
    "new_file = net.to_json_file('%s.json'%net.id)\n",
    "\n",
    "\n",
    "# Specify a NeuroMLlite simulation and save to file\n",
    "sim = nmllite.Simulation(id='Sim%s'%net.id,\n",
    "                 network=new_file,\n",
    "                 duration='1000',\n",
    "                 dt='0.025',\n",
    "                 recordTraces={'all':'*'})\n",
    "                 \n",
    "sim.to_json_file()"
   ]
  },
  {
   "cell_type": "code",
   "execution_count": 2,
   "metadata": {},
   "outputs": [
    {
     "name": "stdout",
     "output_type": "stream",
     "text": [
      "{\r\n",
      "    \"TestNet\": {\r\n",
      "        \"version\": \"NeuroMLlite v0.3.5\",\r\n",
      "        \"parameters\": {\r\n",
      "            \"n_neurons\": 10,\r\n",
      "            \"input_freq\": 50\r\n",
      "        },\r\n",
      "        \"cells\": {\r\n",
      "            \"Input\": {\r\n",
      "                \"bindsnet_node\": \"Input\",\r\n",
      "                \"parameters\": {}\r\n",
      "            },\r\n",
      "            \"LIF\": {\r\n",
      "                \"bindsnet_node\": \"LIFNodes\",\r\n",
      "                \"parameters\": {}\r\n",
      "            }\r\n",
      "        },\r\n",
      "        \"regions\": {\r\n",
      "            \"region1\": {\r\n",
      "                \"x\": 0.0,\r\n",
      "                \"y\": 0.0,\r\n",
      "                \"z\": 0.0,\r\n",
      "                \"width\": 1000.0,\r\n",
      "                \"height\": 100.0,\r\n",
      "                \"depth\": 1000.0\r\n",
      "            }\r\n",
      "        },\r\n",
      "        \"populations\": {\r\n",
      "            \"InputPop\": {\r\n",
      "                \"size\": \"n_neurons\",\r\n",
      "                \"component\": \"Input\",\r\n",
      "                \"properties\": {\r\n",
      "                    \"color\": \"0.8 0 0\"\r\n",
      "                },\r\n",
      "                \"random_layout\": {\r\n",
      "                    \"region\": \"region1\"\r\n",
      "                }\r\n",
      "            },\r\n",
      "            \"LIFPop\": {\r\n",
      "                \"size\": \"n_neurons\",\r\n",
      "                \"component\": \"LIF\",\r\n",
      "                \"properties\": {\r\n",
      "                    \"color\": \"0 0.8 0\"\r\n",
      "                },\r\n",
      "                \"random_layout\": {\r\n",
      "                    \"region\": \"region1\"\r\n",
      "                }\r\n",
      "            }\r\n",
      "        }\r\n",
      "    }\r\n",
      "}"
     ]
    }
   ],
   "source": [
    "!cat TestNet.json"
   ]
  },
  {
   "cell_type": "markdown",
   "metadata": {},
   "source": [
    "### Generate the network and run it in BindsNET"
   ]
  },
  {
   "cell_type": "code",
   "execution_count": 3,
   "metadata": {},
   "outputs": [
    {
     "name": "stdout",
     "output_type": "stream",
     "text": [
      "neuromllite >>> Loaded network specification from TestNet.json\n",
      "neuromllite >>> Generating network TestNet and running in simulator: BindsNET...\n",
      "\n",
      "   ********************************************************\n",
      "   *** Warning: Support for BindsNET is very preliminary!! ***\n",
      "   ********************************************************\n",
      "\n",
      "neuromllite >>> Initiating BindsNET...\n",
      "neuromllite >>> Starting net generation for TestNet...\n",
      "neuromllite >>> Document: TestNet\n",
      "neuromllite >>> Network: TestNet\n",
      "neuromllite >>> Population: InputPop, component: Input, size: 10 cells\n",
      "neuromllite >>> Population: LIFPop, component: LIF, size: 10 cells\n",
      "neuromllite >>> Building network with: {'InputPop': {0: 0, 1: 1, 2: 2, 3: 3, 4: 4, 5: 5, 6: 6, 7: 7, 8: 8, 9: 9}, 'LIFPop': {0: 10, 1: 11, 2: 12, 3: 13, 4: 14, 5: 15, 6: 16, 7: 17, 8: 18, 9: 19}}\n",
      "neuromllite >>> Weights: {}\n",
      "neuromllite >>> Delays: {}\n",
      "Creating a population InputPop with 10 instances of Cell (Input), bindsnet_node = Input, parameters = {} using: <self.pops_vs_bn_layers['InputPop'] = bindsnet.network.nodes.Input(10)>\n",
      "Creating a population LIFPop with 10 instances of Cell (LIF), bindsnet_node = LIFNodes, parameters = {} using: <self.pops_vs_bn_layers['LIFPop'] = bindsnet.network.nodes.LIFNodes(10)>\n",
      "Monitoring all spikes in InputPop (Input) -> Input()\n",
      "Monitoring all spikes in LIFPop (LIF) -> LIFNodes()\n",
      "Monitoring all v in LIFPop (LIF)\n",
      "Shape of results for LIFPop: (1000, 0)\n",
      "[]\n",
      "Shape of results for InputPop: (1000, 0)\n",
      "[]\n",
      "Shape of results for LIFPop: (1000, 0)\n",
      "[]\n",
      "neuromllite >>> Finished BindsNET simulation\n",
      "neuromllite >>> Returning 2 traces:\n",
      "neuromllite >>>   LIFPop/0 (<class 'numpy.ndarray'>): [] -> [] (min: [], max: [], len: 1000)\n",
      "neuromllite >>>   t (<class 'list'>): 0.0 -> 40.0 (min: 0.0, max: 40.0, len: 40001)\n",
      "neuromllite >>> Returning 0 events:\n"
     ]
    }
   ],
   "source": [
    "from neuromllite.NetworkGenerator import generate_and_run\n",
    "traces, events = generate_and_run(sim, \n",
    "                                  simulator='BindsNET', \n",
    "                                  return_results =True)"
   ]
  },
  {
   "cell_type": "markdown",
   "metadata": {},
   "source": [
    "### Plot the results"
   ]
  },
  {
   "cell_type": "code",
   "execution_count": 4,
   "metadata": {},
   "outputs": [
    {
     "ename": "ValueError",
     "evalue": "x and y must have same first dimension, but have shapes (40001,) and (1000, 0)",
     "output_type": "error",
     "traceback": [
      "\u001b[0;31m---------------------------------------------------------------------------\u001b[0m",
      "\u001b[0;31mValueError\u001b[0m                                Traceback (most recent call last)",
      "\u001b[0;32m/var/folders/vn/pwzlc6ws77bg1m6l4crmqnt80000gn/T/ipykernel_75823/3429106853.py\u001b[0m in \u001b[0;36m<module>\u001b[0;34m\u001b[0m\n\u001b[1;32m      4\u001b[0m \u001b[0;32mfor\u001b[0m \u001b[0mtrace\u001b[0m \u001b[0;32min\u001b[0m \u001b[0mtraces\u001b[0m\u001b[0;34m:\u001b[0m\u001b[0;34m\u001b[0m\u001b[0;34m\u001b[0m\u001b[0m\n\u001b[1;32m      5\u001b[0m     \u001b[0;32mif\u001b[0m \u001b[0mtrace\u001b[0m \u001b[0;32mis\u001b[0m \u001b[0;32mnot\u001b[0m \u001b[0;34m't'\u001b[0m\u001b[0;34m:\u001b[0m\u001b[0;34m\u001b[0m\u001b[0;34m\u001b[0m\u001b[0m\n\u001b[0;32m----> 6\u001b[0;31m         \u001b[0mplt\u001b[0m\u001b[0;34m.\u001b[0m\u001b[0mplot\u001b[0m\u001b[0;34m(\u001b[0m\u001b[0mtraces\u001b[0m\u001b[0;34m[\u001b[0m\u001b[0;34m't'\u001b[0m\u001b[0;34m]\u001b[0m\u001b[0;34m,\u001b[0m\u001b[0mtraces\u001b[0m\u001b[0;34m[\u001b[0m\u001b[0mtrace\u001b[0m\u001b[0;34m]\u001b[0m\u001b[0;34m,\u001b[0m\u001b[0mlabel\u001b[0m\u001b[0;34m=\u001b[0m\u001b[0mtrace\u001b[0m\u001b[0;34m)\u001b[0m\u001b[0;34m\u001b[0m\u001b[0;34m\u001b[0m\u001b[0m\n\u001b[0m\u001b[1;32m      7\u001b[0m \u001b[0mplt\u001b[0m\u001b[0;34m.\u001b[0m\u001b[0mlegend\u001b[0m\u001b[0;34m(\u001b[0m\u001b[0;34m)\u001b[0m\u001b[0;34m\u001b[0m\u001b[0;34m\u001b[0m\u001b[0m\n",
      "\u001b[0;32m~/opt/miniconda3/envs/bindsnet/lib/python3.8/site-packages/matplotlib/pyplot.py\u001b[0m in \u001b[0;36mplot\u001b[0;34m(scalex, scaley, data, *args, **kwargs)\u001b[0m\n\u001b[1;32m   3017\u001b[0m \u001b[0;34m@\u001b[0m\u001b[0m_copy_docstring_and_deprecators\u001b[0m\u001b[0;34m(\u001b[0m\u001b[0mAxes\u001b[0m\u001b[0;34m.\u001b[0m\u001b[0mplot\u001b[0m\u001b[0;34m)\u001b[0m\u001b[0;34m\u001b[0m\u001b[0;34m\u001b[0m\u001b[0m\n\u001b[1;32m   3018\u001b[0m \u001b[0;32mdef\u001b[0m \u001b[0mplot\u001b[0m\u001b[0;34m(\u001b[0m\u001b[0;34m*\u001b[0m\u001b[0margs\u001b[0m\u001b[0;34m,\u001b[0m \u001b[0mscalex\u001b[0m\u001b[0;34m=\u001b[0m\u001b[0;32mTrue\u001b[0m\u001b[0;34m,\u001b[0m \u001b[0mscaley\u001b[0m\u001b[0;34m=\u001b[0m\u001b[0;32mTrue\u001b[0m\u001b[0;34m,\u001b[0m \u001b[0mdata\u001b[0m\u001b[0;34m=\u001b[0m\u001b[0;32mNone\u001b[0m\u001b[0;34m,\u001b[0m \u001b[0;34m**\u001b[0m\u001b[0mkwargs\u001b[0m\u001b[0;34m)\u001b[0m\u001b[0;34m:\u001b[0m\u001b[0;34m\u001b[0m\u001b[0;34m\u001b[0m\u001b[0m\n\u001b[0;32m-> 3019\u001b[0;31m     return gca().plot(\n\u001b[0m\u001b[1;32m   3020\u001b[0m         \u001b[0;34m*\u001b[0m\u001b[0margs\u001b[0m\u001b[0;34m,\u001b[0m \u001b[0mscalex\u001b[0m\u001b[0;34m=\u001b[0m\u001b[0mscalex\u001b[0m\u001b[0;34m,\u001b[0m \u001b[0mscaley\u001b[0m\u001b[0;34m=\u001b[0m\u001b[0mscaley\u001b[0m\u001b[0;34m,\u001b[0m\u001b[0;34m\u001b[0m\u001b[0;34m\u001b[0m\u001b[0m\n\u001b[1;32m   3021\u001b[0m         **({\"data\": data} if data is not None else {}), **kwargs)\n",
      "\u001b[0;32m~/opt/miniconda3/envs/bindsnet/lib/python3.8/site-packages/matplotlib/axes/_axes.py\u001b[0m in \u001b[0;36mplot\u001b[0;34m(self, scalex, scaley, data, *args, **kwargs)\u001b[0m\n\u001b[1;32m   1603\u001b[0m         \"\"\"\n\u001b[1;32m   1604\u001b[0m         \u001b[0mkwargs\u001b[0m \u001b[0;34m=\u001b[0m \u001b[0mcbook\u001b[0m\u001b[0;34m.\u001b[0m\u001b[0mnormalize_kwargs\u001b[0m\u001b[0;34m(\u001b[0m\u001b[0mkwargs\u001b[0m\u001b[0;34m,\u001b[0m \u001b[0mmlines\u001b[0m\u001b[0;34m.\u001b[0m\u001b[0mLine2D\u001b[0m\u001b[0;34m)\u001b[0m\u001b[0;34m\u001b[0m\u001b[0;34m\u001b[0m\u001b[0m\n\u001b[0;32m-> 1605\u001b[0;31m         \u001b[0mlines\u001b[0m \u001b[0;34m=\u001b[0m \u001b[0;34m[\u001b[0m\u001b[0;34m*\u001b[0m\u001b[0mself\u001b[0m\u001b[0;34m.\u001b[0m\u001b[0m_get_lines\u001b[0m\u001b[0;34m(\u001b[0m\u001b[0;34m*\u001b[0m\u001b[0margs\u001b[0m\u001b[0;34m,\u001b[0m \u001b[0mdata\u001b[0m\u001b[0;34m=\u001b[0m\u001b[0mdata\u001b[0m\u001b[0;34m,\u001b[0m \u001b[0;34m**\u001b[0m\u001b[0mkwargs\u001b[0m\u001b[0;34m)\u001b[0m\u001b[0;34m]\u001b[0m\u001b[0;34m\u001b[0m\u001b[0;34m\u001b[0m\u001b[0m\n\u001b[0m\u001b[1;32m   1606\u001b[0m         \u001b[0;32mfor\u001b[0m \u001b[0mline\u001b[0m \u001b[0;32min\u001b[0m \u001b[0mlines\u001b[0m\u001b[0;34m:\u001b[0m\u001b[0;34m\u001b[0m\u001b[0;34m\u001b[0m\u001b[0m\n\u001b[1;32m   1607\u001b[0m             \u001b[0mself\u001b[0m\u001b[0;34m.\u001b[0m\u001b[0madd_line\u001b[0m\u001b[0;34m(\u001b[0m\u001b[0mline\u001b[0m\u001b[0;34m)\u001b[0m\u001b[0;34m\u001b[0m\u001b[0;34m\u001b[0m\u001b[0m\n",
      "\u001b[0;32m~/opt/miniconda3/envs/bindsnet/lib/python3.8/site-packages/matplotlib/axes/_base.py\u001b[0m in \u001b[0;36m__call__\u001b[0;34m(self, data, *args, **kwargs)\u001b[0m\n\u001b[1;32m    313\u001b[0m                 \u001b[0mthis\u001b[0m \u001b[0;34m+=\u001b[0m \u001b[0margs\u001b[0m\u001b[0;34m[\u001b[0m\u001b[0;36m0\u001b[0m\u001b[0;34m]\u001b[0m\u001b[0;34m,\u001b[0m\u001b[0;34m\u001b[0m\u001b[0;34m\u001b[0m\u001b[0m\n\u001b[1;32m    314\u001b[0m                 \u001b[0margs\u001b[0m \u001b[0;34m=\u001b[0m \u001b[0margs\u001b[0m\u001b[0;34m[\u001b[0m\u001b[0;36m1\u001b[0m\u001b[0;34m:\u001b[0m\u001b[0;34m]\u001b[0m\u001b[0;34m\u001b[0m\u001b[0;34m\u001b[0m\u001b[0m\n\u001b[0;32m--> 315\u001b[0;31m             \u001b[0;32myield\u001b[0m \u001b[0;32mfrom\u001b[0m \u001b[0mself\u001b[0m\u001b[0;34m.\u001b[0m\u001b[0m_plot_args\u001b[0m\u001b[0;34m(\u001b[0m\u001b[0mthis\u001b[0m\u001b[0;34m,\u001b[0m \u001b[0mkwargs\u001b[0m\u001b[0;34m)\u001b[0m\u001b[0;34m\u001b[0m\u001b[0;34m\u001b[0m\u001b[0m\n\u001b[0m\u001b[1;32m    316\u001b[0m \u001b[0;34m\u001b[0m\u001b[0m\n\u001b[1;32m    317\u001b[0m     \u001b[0;32mdef\u001b[0m \u001b[0mget_next_color\u001b[0m\u001b[0;34m(\u001b[0m\u001b[0mself\u001b[0m\u001b[0;34m)\u001b[0m\u001b[0;34m:\u001b[0m\u001b[0;34m\u001b[0m\u001b[0;34m\u001b[0m\u001b[0m\n",
      "\u001b[0;32m~/opt/miniconda3/envs/bindsnet/lib/python3.8/site-packages/matplotlib/axes/_base.py\u001b[0m in \u001b[0;36m_plot_args\u001b[0;34m(self, tup, kwargs, return_kwargs)\u001b[0m\n\u001b[1;32m    499\u001b[0m \u001b[0;34m\u001b[0m\u001b[0m\n\u001b[1;32m    500\u001b[0m         \u001b[0;32mif\u001b[0m \u001b[0mx\u001b[0m\u001b[0;34m.\u001b[0m\u001b[0mshape\u001b[0m\u001b[0;34m[\u001b[0m\u001b[0;36m0\u001b[0m\u001b[0;34m]\u001b[0m \u001b[0;34m!=\u001b[0m \u001b[0my\u001b[0m\u001b[0;34m.\u001b[0m\u001b[0mshape\u001b[0m\u001b[0;34m[\u001b[0m\u001b[0;36m0\u001b[0m\u001b[0;34m]\u001b[0m\u001b[0;34m:\u001b[0m\u001b[0;34m\u001b[0m\u001b[0;34m\u001b[0m\u001b[0m\n\u001b[0;32m--> 501\u001b[0;31m             raise ValueError(f\"x and y must have same first dimension, but \"\n\u001b[0m\u001b[1;32m    502\u001b[0m                              f\"have shapes {x.shape} and {y.shape}\")\n\u001b[1;32m    503\u001b[0m         \u001b[0;32mif\u001b[0m \u001b[0mx\u001b[0m\u001b[0;34m.\u001b[0m\u001b[0mndim\u001b[0m \u001b[0;34m>\u001b[0m \u001b[0;36m2\u001b[0m \u001b[0;32mor\u001b[0m \u001b[0my\u001b[0m\u001b[0;34m.\u001b[0m\u001b[0mndim\u001b[0m \u001b[0;34m>\u001b[0m \u001b[0;36m2\u001b[0m\u001b[0;34m:\u001b[0m\u001b[0;34m\u001b[0m\u001b[0;34m\u001b[0m\u001b[0m\n",
      "\u001b[0;31mValueError\u001b[0m: x and y must have same first dimension, but have shapes (40001,) and (1000, 0)"
     ]
    },
    {
     "data": {
      "image/png": "[encoded data removed]",
      "text/plain": [
       "<Figure size 1000x600 with 1 Axes>"
      ]
     },
     "metadata": {
      "needs_background": "light"
     },
     "output_type": "display_data"
    }
   ],
   "source": [
    "import matplotlib.pyplot as plt\n",
    "\n",
    "fig=plt.figure(figsize=(10,6), dpi= 100)\n",
    "for trace in traces:\n",
    "    if trace is not 't':\n",
    "        plt.plot(traces['t'],traces[trace],label=trace)\n",
    "plt.legend()"
   ]
  },
  {
   "cell_type": "code",
   "execution_count": null,
   "metadata": {},
   "outputs": [],
   "source": []
  },
  {
   "cell_type": "code",
   "execution_count": null,
   "metadata": {},
   "outputs": [],
   "source": []
  }
 ],
 "metadata": {
  "kernelspec": {
   "display_name": "Python 3 (ipykernel)",
   "language": "python",
   "name": "python3"
  },
  "language_info": {
   "codemirror_mode": {
    "name": "ipython",
    "version": 3
   },
   "file_extension": ".py",
   "mimetype": "text/x-python",
   "name": "python",
   "nbconvert_exporter": "python",
   "pygments_lexer": "ipython3",
   "version": "3.8.11"
  }
 },
 "nbformat": 4,
 "nbformat_minor": 4
}
